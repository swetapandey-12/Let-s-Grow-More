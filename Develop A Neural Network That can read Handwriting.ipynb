{
 "cells": [
  {
   "cell_type": "markdown",
   "id": "d521ac10",
   "metadata": {},
   "source": [
    "# -----Let'sGrowMore VIP Inernship Task-2-----\n",
    "***PROBLEM STATEMENT :-- Develop A Neural Network That can read Handwriting. ***\n",
    "\n",
    "***SWETA PANDEY*** "
   ]
  },
  {
   "cell_type": "markdown",
   "id": "9b51ba8e",
   "metadata": {},
   "source": [
    "# 1. Importing the requried modules"
   ]
  },
  {
   "cell_type": "code",
   "execution_count": 1,
   "id": "f34dfb7a",
   "metadata": {},
   "outputs": [],
   "source": [
    "import tensorflow\n",
    "import cv2\n",
    "import matplotlib.pyplot as plt\n",
    "import numpy as np\n",
    "from tensorflow.keras.models import Sequential\n",
    "from tensorflow.keras.layers import Dense,Dropout, Activation,Flatten,Conv2D,MaxPooling2D"
   ]
  },
  {
   "cell_type": "markdown",
   "id": "18d1a8e0",
   "metadata": {},
   "source": [
    "# 2. Loding the dataset"
   ]
  },
  {
   "cell_type": "code",
   "execution_count": 2,
   "id": "bd9f4637",
   "metadata": {},
   "outputs": [],
   "source": [
    "mnist=tensorflow.keras.datasets.mnist"
   ]
  },
  {
   "cell_type": "markdown",
   "id": "a68aa404",
   "metadata": {},
   "source": [
    "# Dividing our data into train and test set"
   ]
  },
  {
   "cell_type": "code",
   "execution_count": 3,
   "id": "8f64b9f7",
   "metadata": {},
   "outputs": [],
   "source": [
    "(x_train,y_train),(x_test,y_test)=mnist.load_data()"
   ]
  },
  {
   "cell_type": "markdown",
   "id": "35670359",
   "metadata": {},
   "source": [
    "# Analyzing the train set"
   ]
  },
  {
   "cell_type": "code",
   "execution_count": 4,
   "id": "8a486ba4",
   "metadata": {},
   "outputs": [
    {
     "data": {
      "text/plain": [
       "(60000, 28, 28)"
      ]
     },
     "execution_count": 4,
     "metadata": {},
     "output_type": "execute_result"
    }
   ],
   "source": [
    "x_train.shape"
   ]
  },
  {
   "cell_type": "code",
   "execution_count": 5,
   "id": "1af7aa58",
   "metadata": {},
   "outputs": [
    {
     "data": {
      "image/png": "[encoded data removed]",
      "text/plain": [
       "<Figure size 432x288 with 1 Axes>"
      ]
     },
     "metadata": {
      "needs_background": "light"
     },
     "output_type": "display_data"
    },
    {
     "data": {
      "text/plain": [
       "<matplotlib.image.AxesImage at 0x1cd99f79a30>"
      ]
     },
     "execution_count": 5,
     "metadata": {},
     "output_type": "execute_result"
    },
    {
     "data": {
      "image/png": "[encoded data removed]",
      "text/plain": [
       "<Figure size 432x288 with 1 Axes>"
      ]
     },
     "metadata": {
      "needs_background": "light"
     },
     "output_type": "display_data"
    }
   ],
   "source": [
    "#ploting the first element of train set\n",
    "plt.imshow(x_train[0])\n",
    "plt.show()\n",
    "#ploing the binary image of the same \n",
    "plt.imshow(x_train[0], cmap=plt.cm.binary)"
   ]
  },
  {
   "cell_type": "markdown",
   "id": "d50e860b",
   "metadata": {},
   "source": [
    "# Pre-processing the data"
   ]
  },
  {
   "cell_type": "code",
   "execution_count": 6,
   "id": "27507cff",
   "metadata": {},
   "outputs": [
    {
     "data": {
      "text/plain": [
       "<matplotlib.image.AxesImage at 0x1cd9634bd00>"
      ]
     },
     "execution_count": 6,
     "metadata": {},
     "output_type": "execute_result"
    },
    {
     "data": {
      "image/png": "[encoded data removed]",
      "text/plain": [
       "<Figure size 432x288 with 1 Axes>"
      ]
     },
     "metadata": {
      "needs_background": "light"
     },
     "output_type": "display_data"
    }
   ],
   "source": [
    "x_train=tensorflow.keras.utils.normalize(x_train,axis=1)\n",
    "x_test= tensorflow.keras.utils.normalize(x_test, axis=1)\n",
    "#after Normalizing \n",
    "#ploting the binary image of first element of train set\n",
    "plt.imshow(x_train[0],cmap=plt.cm.binary)"
   ]
  },
  {
   "cell_type": "code",
   "execution_count": 7,
   "id": "28debd74",
   "metadata": {},
   "outputs": [
    {
     "name": "stdout",
     "output_type": "stream",
     "text": [
      "Train set dimesion:  (60000, 28, 28, 1)\n",
      "Test set dimesion:  (10000, 28, 28, 1)\n"
     ]
    }
   ],
   "source": [
    "#increasing one dimension for filter operation\n",
    "x_train=np.array(x_train).reshape(-1,28, 28, 1)\n",
    "#increasing one dimension for filter operation \n",
    "x_test=np.array(x_test).reshape(-1,28,28,1)\n",
    "print(\"Train set dimesion: \",x_train.shape)\n",
    "print(\"Test set dimesion: \",x_test.shape)"
   ]
  },
  {
   "cell_type": "markdown",
   "id": "d7478f4c",
   "metadata": {},
   "source": [
    "# Creating the CNN model"
   ]
  },
  {
   "cell_type": "code",
   "execution_count": 8,
   "id": "c1280726",
   "metadata": {},
   "outputs": [],
   "source": [
    "model = Sequential()\n",
    "\n",
    "#1st convolution Layer\n",
    "model.add(Conv2D(64,(3,3), input_shape= x_train.shape[1:]))\n",
    "model.add(Activation('relu'))\n",
    "model.add(MaxPooling2D(pool_size=(2,2)))\n",
    "\n",
    "#2nd convolution layer\n",
    "model.add(Conv2D(64,(3,3)))\n",
    "model.add(Activation('relu'))\n",
    "model.add(MaxPooling2D(pool_size=(2,2)))\n",
    "\n",
    "\n",
    "#3rd convolution layer\n",
    "model.add(Conv2D(64,(3,3)))\n",
    "model.add(Activation('relu'))\n",
    "model.add(MaxPooling2D(pool_size=(2,2)))\n",
    "\n",
    "\n",
    "#1st fully connected layer\n",
    "model.add(Flatten())\n",
    "model.add(Dense(64))\n",
    "model.add(Activation('relu'))\n",
    "\n",
    "\n",
    "\n",
    "#2nd fully connected layer\n",
    "model.add(Dense(32))\n",
    "model.add(Activation('relu'))\n",
    "\n",
    "\n",
    "#3rd fully connected layer\n",
    "model.add(Dense(10))\n",
    "model.add(Activation('softmax'))\n",
    "          \n",
    "          \n",
    "          \n"
   ]
  },
  {
   "cell_type": "code",
   "execution_count": 9,
   "id": "671d1c33",
   "metadata": {},
   "outputs": [
    {
     "name": "stdout",
     "output_type": "stream",
     "text": [
      "Model: \"sequential\"\n",
      "_________________________________________________________________\n",
      " Layer (type)                Output Shape              Param #   \n",
      "=================================================================\n",
      " conv2d (Conv2D)             (None, 26, 26, 64)        640       \n",
      "                                                                 \n",
      " activation (Activation)     (None, 26, 26, 64)        0         \n",
      "                                                                 \n",
      " max_pooling2d (MaxPooling2D  (None, 13, 13, 64)       0         \n",
      " )                                                               \n",
      "                                                                 \n",
      " conv2d_1 (Conv2D)           (None, 11, 11, 64)        36928     \n",
      "                                                                 \n",
      " activation_1 (Activation)   (None, 11, 11, 64)        0         \n",
      "                                                                 \n",
      " max_pooling2d_1 (MaxPooling  (None, 5, 5, 64)         0         \n",
      " 2D)                                                             \n",
      "                                                                 \n",
      " conv2d_2 (Conv2D)           (None, 3, 3, 64)          36928     \n",
      "                                                                 \n",
      " activation_2 (Activation)   (None, 3, 3, 64)          0         \n",
      "                                                                 \n",
      " max_pooling2d_2 (MaxPooling  (None, 1, 1, 64)         0         \n",
      " 2D)                                                             \n",
      "                                                                 \n",
      " flatten (Flatten)           (None, 64)                0         \n",
      "                                                                 \n",
      " dense (Dense)               (None, 64)                4160      \n",
      "                                                                 \n",
      " activation_3 (Activation)   (None, 64)                0         \n",
      "                                                                 \n",
      " dense_1 (Dense)             (None, 32)                2080      \n",
      "                                                                 \n",
      " activation_4 (Activation)   (None, 32)                0         \n",
      "                                                                 \n",
      " dense_2 (Dense)             (None, 10)                330       \n",
      "                                                                 \n",
      " activation_5 (Activation)   (None, 10)                0         \n",
      "                                                                 \n",
      "=================================================================\n",
      "Total params: 81,066\n",
      "Trainable params: 81,066\n",
      "Non-trainable params: 0\n",
      "_________________________________________________________________\n"
     ]
    }
   ],
   "source": [
    "model.summary()"
   ]
  },
  {
   "cell_type": "code",
   "execution_count": 10,
   "id": "f89a993c",
   "metadata": {},
   "outputs": [
    {
     "data": {
      "text/plain": [
       "60000"
      ]
     },
     "execution_count": 10,
     "metadata": {},
     "output_type": "execute_result"
    }
   ],
   "source": [
    "len(x_train)"
   ]
  },
  {
   "cell_type": "code",
   "execution_count": 11,
   "id": "f856c334",
   "metadata": {},
   "outputs": [],
   "source": [
    "model.compile(loss='sparse_categorical_crossentropy', optimizer='adam',metrics=['accuracy'])"
   ]
  },
  {
   "cell_type": "code",
   "execution_count": 12,
   "id": "7f3ce916",
   "metadata": {},
   "outputs": [
    {
     "data": {
      "text/plain": [
       "60000"
      ]
     },
     "execution_count": 12,
     "metadata": {},
     "output_type": "execute_result"
    }
   ],
   "source": [
    "len(x_train)"
   ]
  },
  {
   "cell_type": "code",
   "execution_count": 13,
   "id": "391f2377",
   "metadata": {},
   "outputs": [
    {
     "name": "stdout",
     "output_type": "stream",
     "text": [
      "Epoch 1/5\n",
      "42000/42000 [==============================] - 276s 6ms/step - loss: 0.2277 - accuracy: 0.9318 - val_loss: 0.1513 - val_accuracy: 0.9591\n",
      "Epoch 2/5\n",
      "42000/42000 [==============================] - 266s 6ms/step - loss: 0.1123 - accuracy: 0.9698 - val_loss: 0.1664 - val_accuracy: 0.9633\n",
      "Epoch 3/5\n",
      "42000/42000 [==============================] - 261s 6ms/step - loss: 0.0991 - accuracy: 0.9743 - val_loss: 0.1797 - val_accuracy: 0.9579\n",
      "Epoch 4/5\n",
      "42000/42000 [==============================] - 260s 6ms/step - loss: 0.0910 - accuracy: 0.9767 - val_loss: 0.1660 - val_accuracy: 0.9722\n",
      "Epoch 5/5\n",
      "42000/42000 [==============================] - 261s 6ms/step - loss: 0.0948 - accuracy: 0.9772 - val_loss: 0.1285 - val_accuracy: 0.9679\n"
     ]
    },
    {
     "data": {
      "text/plain": [
       "<keras.callbacks.History at 0x1cd9640d550>"
      ]
     },
     "execution_count": 13,
     "metadata": {},
     "output_type": "execute_result"
    }
   ],
   "source": [
    "model.fit(x_train,y_train,epochs=5,validation_split=0.3,batch_size=1)"
   ]
  },
  {
   "cell_type": "markdown",
   "id": "78ca7578",
   "metadata": {},
   "source": [
    "# Evaluation the model"
   ]
  },
  {
   "cell_type": "code",
   "execution_count": 14,
   "id": "4c2c8dd6",
   "metadata": {},
   "outputs": [
    {
     "name": "stdout",
     "output_type": "stream",
     "text": [
      "313/313 [==============================] - 5s 15ms/step - loss: 0.1229 - accuracy: 0.9706\n",
      "Test accuracy on samples:  0.9706000089645386\n",
      "Test accuracy on samples:  0.12285260111093521\n"
     ]
    }
   ],
   "source": [
    "test_loss,test_acc=model.evaluate(x_test,y_test)\n",
    "print(\"Test accuracy on samples: \", test_acc)\n",
    "print(\"Test accuracy on samples: \", test_loss)"
   ]
  },
  {
   "cell_type": "markdown",
   "id": "1835ec0b",
   "metadata": {},
   "source": [
    "# Testing with custom image"
   ]
  },
  {
   "cell_type": "code",
   "execution_count": 24,
   "id": "c811e8e2",
   "metadata": {},
   "outputs": [
    {
     "data": {
      "text/plain": [
       "<matplotlib.image.AxesImage at 0x1cd9785b700>"
      ]
     },
     "execution_count": 24,
     "metadata": {},
     "output_type": "execute_result"
    },
    {
     "data": {
      "image/png": "[encoded data removed]",
      "text/plain": [
       "<Figure size 432x288 with 1 Axes>"
      ]
     },
     "metadata": {
      "needs_background": "light"
     },
     "output_type": "display_data"
    }
   ],
   "source": [
    "img = cv2.imread('five.png')\n",
    "plt.imshow(img)"
   ]
  },
  {
   "cell_type": "code",
   "execution_count": 25,
   "id": "14d04019",
   "metadata": {},
   "outputs": [
    {
     "data": {
      "text/plain": [
       "(721, 482, 3)"
      ]
     },
     "execution_count": 25,
     "metadata": {},
     "output_type": "execute_result"
    }
   ],
   "source": [
    "img.shape"
   ]
  },
  {
   "cell_type": "code",
   "execution_count": 26,
   "id": "4565637b",
   "metadata": {},
   "outputs": [],
   "source": [
    "img=cv2.resize((cv2.cvtColor(img,cv2.COLOR_BGR2GRAY)),(28,28),interpolation=cv2.INTER_AREA)"
   ]
  },
  {
   "cell_type": "code",
   "execution_count": 27,
   "id": "057b463b",
   "metadata": {},
   "outputs": [
    {
     "data": {
      "text/plain": [
       "(28, 28)"
      ]
     },
     "execution_count": 27,
     "metadata": {},
     "output_type": "execute_result"
    }
   ],
   "source": [
    "img.shape"
   ]
  },
  {
   "cell_type": "code",
   "execution_count": 28,
   "id": "74f916e7",
   "metadata": {},
   "outputs": [],
   "source": [
    "img = tensorflow.keras.utils.normalize(img, axis=1)"
   ]
  },
  {
   "cell_type": "code",
   "execution_count": 29,
   "id": "5167c749",
   "metadata": {},
   "outputs": [],
   "source": [
    "img =np.array(img).reshape(-1,28,28,1)"
   ]
  },
  {
   "cell_type": "code",
   "execution_count": 30,
   "id": "0a7cdefc",
   "metadata": {},
   "outputs": [
    {
     "data": {
      "text/plain": [
       "(1, 28, 28, 1)"
      ]
     },
     "execution_count": 30,
     "metadata": {},
     "output_type": "execute_result"
    }
   ],
   "source": [
    "img.shape"
   ]
  },
  {
   "cell_type": "code",
   "execution_count": 31,
   "id": "e43997e4",
   "metadata": {},
   "outputs": [
    {
     "name": "stdout",
     "output_type": "stream",
     "text": [
      "Number predicted ==>\n",
      "5\n"
     ]
    }
   ],
   "source": [
    "print(\"Number predicted ==>\")\n",
    "print(np.argmax(model.predict(img)))"
   ]
  },
  {
   "cell_type": "code",
   "execution_count": null,
   "id": "b980c081",
   "metadata": {},
   "outputs": [],
   "source": []
  }
 ],
 "metadata": {
  "kernelspec": {
   "display_name": "Python 3",
   "language": "python",
   "name": "python3"
  },
  "language_info": {
   "codemirror_mode": {
    "name": "ipython",
    "version": 3
   },
   "file_extension": ".py",
   "mimetype": "text/x-python",
   "name": "python",
   "nbconvert_exporter": "python",
   "pygments_lexer": "ipython3",
   "version": "3.8.8"
  }
 },
 "nbformat": 4,
 "nbformat_minor": 5
}
